{
 "cells": [
  {
   "cell_type": "code",
   "execution_count": 1,
   "id": "c19dc238",
   "metadata": {},
   "outputs": [],
   "source": [
    "import tensorflow as tf"
   ]
  },
  {
   "cell_type": "code",
   "execution_count": 2,
   "id": "17f5599b",
   "metadata": {},
   "outputs": [],
   "source": [
    "import matplotlib.pyplot as plt\n",
    "import seaborn as sns\n",
    "import pandas as pd\n",
    "from tensorflow.keras.utils import image_dataset_from_directory"
   ]
  },
  {
   "cell_type": "code",
   "execution_count": 3,
   "id": "c3d9df22",
   "metadata": {},
   "outputs": [
    {
     "name": "stdout",
     "output_type": "stream",
     "text": [
      "Found 76515 files belonging to 4 classes.\n"
     ]
    }
   ],
   "source": [
    "train_data=image_dataset_from_directory(\n",
    "    r\"..\\data\\retina\\train\",\n",
    "    labels=\"inferred\",\n",
    "    label_mode=\"categorical\",\n",
    "    class_names=None,\n",
    "    color_mode=\"rgb\",\n",
    "    batch_size=32,\n",
    "    image_size=(224, 224),\n",
    "    shuffle=True,\n",
    "    seed=None,\n",
    "    validation_split=None,\n",
    "    subset=None,\n",
    "    interpolation=\"bilinear\",\n",
    "    follow_links=False,\n",
    "    crop_to_aspect_ratio=False,\n",
    ")"
   ]
  },
  {
   "cell_type": "code",
   "execution_count": 4,
   "id": "8c38755e",
   "metadata": {},
   "outputs": [
    {
     "name": "stdout",
     "output_type": "stream",
     "text": [
      "Found 21861 files belonging to 4 classes.\n"
     ]
    }
   ],
   "source": [
    "valid_data=image_dataset_from_directory(\n",
    "    r\"..\\data\\retina\\val\",\n",
    "    labels=\"inferred\",\n",
    "    label_mode=\"categorical\",\n",
    "    class_names=None,\n",
    "    color_mode=\"rgb\",\n",
    "    batch_size=32,\n",
    "    image_size=(224, 224),\n",
    "    shuffle=True,\n",
    "    seed=None,\n",
    "    validation_split=None,\n",
    "    subset=None,\n",
    "    interpolation=\"bilinear\",\n",
    "    follow_links=False,\n",
    "    crop_to_aspect_ratio=False,\n",
    ")"
   ]
  },
  {
   "cell_type": "code",
   "execution_count": 5,
   "id": "511c5c24",
   "metadata": {},
   "outputs": [
    {
     "data": {
      "text/plain": [
       "<BatchDataset element_spec=(TensorSpec(shape=(None, 224, 224, 3), dtype=tf.float32, name=None), TensorSpec(shape=(None, 4), dtype=tf.float32, name=None))>"
      ]
     },
     "execution_count": 5,
     "metadata": {},
     "output_type": "execute_result"
    }
   ],
   "source": [
    "train_data"
   ]
  },
  {
   "cell_type": "code",
   "execution_count": 6,
   "id": "134edc0d",
   "metadata": {},
   "outputs": [],
   "source": [
    "INPUT_SHAPE=(224, 224, 3)"
   ]
  },
  {
   "cell_type": "code",
   "execution_count": 7,
   "id": "38645e6d",
   "metadata": {},
   "outputs": [],
   "source": [
    "mobile_net=tf.keras.applications.MobileNetV3Large(\n",
    "    input_shape=INPUT_SHAPE,\n",
    "    alpha=1.0,\n",
    "    minimalistic=False,\n",
    "    include_top=True,\n",
    "    weights=\"imagenet\",\n",
    "    input_tensor=None,\n",
    "    classes=1000,\n",
    "    pooling=None,\n",
    "    dropout_rate=0.2,\n",
    "    classifier_activation=\"softmax\",\n",
    "    include_preprocessing=True,\n",
    ")"
   ]
  },
  {
   "cell_type": "code",
   "execution_count": 8,
   "id": "1dc2a5db",
   "metadata": {},
   "outputs": [],
   "source": [
    "model=tf.keras.models.Sequential()"
   ]
  },
  {
   "cell_type": "code",
   "execution_count": 9,
   "id": "5af03fa9",
   "metadata": {},
   "outputs": [],
   "source": [
    "model.add(tf.keras.Input(shape=INPUT_SHAPE))"
   ]
  },
  {
   "cell_type": "code",
   "execution_count": 10,
   "id": "19fb056c",
   "metadata": {},
   "outputs": [],
   "source": [
    "model.add(mobile_net)"
   ]
  },
  {
   "cell_type": "code",
   "execution_count": 11,
   "id": "d16c5560",
   "metadata": {},
   "outputs": [],
   "source": [
    "model.add(tf.keras.layers.Dense(units=4,activation=\"softmax\"))"
   ]
  },
  {
   "cell_type": "code",
   "execution_count": 13,
   "id": "58a68bac",
   "metadata": {},
   "outputs": [],
   "source": [
    "import tensorflow as tf\n",
    "from sklearn.metrics import f1_score\n",
    "import tensorflow.keras.backend as K\n",
    "\n",
    "class F1Score(tf.keras.metrics.Metric):\n",
    "    def __init__(self, name=\"f1_score\", **kwargs):\n",
    "        super(F1Score, self).__init__(name=name, **kwargs)\n",
    "        self.true_positives = self.add_weight(name=\"tp\", initializer=\"zeros\")\n",
    "        self.false_positives = self.add_weight(name=\"fp\", initializer=\"zeros\")\n",
    "        self.false_negatives = self.add_weight(name=\"fn\", initializer=\"zeros\")\n",
    "\n",
    "    def update_state(self, y_true, y_pred, sample_weight=None):\n",
    "        # Convert predictions to class labels\n",
    "        y_pred = K.argmax(y_pred, axis=-1)\n",
    "        y_true = K.argmax(y_true, axis=-1)\n",
    "\n",
    "        # Calculate true positives, false positives, and false negatives\n",
    "        tp = K.sum(K.cast(K.equal(y_true, y_pred), K.floatx()))\n",
    "        fp = K.sum(K.cast(K.equal(y_true, 0) & K.not_equal(y_pred, y_true), K.floatx()))\n",
    "        fn = K.sum(K.cast(K.equal(y_pred, 0) & K.not_equal(y_true, y_pred), K.floatx()))\n",
    "\n",
    "        self.true_positives.assign_add(tp)\n",
    "        self.false_positives.assign_add(fp)\n",
    "        self.false_negatives.assign_add(fn)\n",
    "\n",
    "    def result(self):\n",
    "        precision = self.true_positives / (self.true_positives + self.false_positives + K.epsilon())\n",
    "        recall = self.true_positives / (self.true_positives + self.false_negatives + K.epsilon())\n",
    "        f1 = 2 * (precision * recall) / (precision + recall + K.epsilon())\n",
    "        return f1\n",
    "\n",
    "    def reset_states(self):\n",
    "        # Reset all variables at the end of each epoch\n",
    "        self.true_positives.assign(0)\n",
    "        self.false_positives.assign(0)\n",
    "        self.false_negatives.assign(0)\n"
   ]
  },
  {
   "cell_type": "code",
   "execution_count": null,
   "id": "1d00b583",
   "metadata": {},
   "outputs": [],
   "source": []
  },
  {
   "cell_type": "code",
   "execution_count": 15,
   "id": "ef838f14",
   "metadata": {},
   "outputs": [],
   "source": [
    "model.compile(optimizer=tf.keras.optimizers.Adam(learning_rate=0.0001),loss=\"categorical_crossentropy\",metrics=['accuracy', F1Score()])"
   ]
  },
  {
   "cell_type": "code",
   "execution_count": 16,
   "id": "37c6b5b7",
   "metadata": {},
   "outputs": [
    {
     "name": "stdout",
     "output_type": "stream",
     "text": [
      "Model: \"sequential\"\n",
      "_________________________________________________________________\n",
      " Layer (type)                Output Shape              Param #   \n",
      "=================================================================\n",
      " MobilenetV3large (Functiona  (None, 1000)             5507432   \n",
      " l)                                                              \n",
      "                                                                 \n",
      " dense (Dense)               (None, 4)                 4004      \n",
      "                                                                 \n",
      "=================================================================\n",
      "Total params: 5,511,436\n",
      "Trainable params: 5,487,036\n",
      "Non-trainable params: 24,400\n",
      "_________________________________________________________________\n"
     ]
    }
   ],
   "source": [
    "model.summary()"
   ]
  },
  {
   "cell_type": "code",
   "execution_count": 17,
   "id": "a1f610e8",
   "metadata": {},
   "outputs": [
    {
     "name": "stdout",
     "output_type": "stream",
     "text": [
      "Epoch 1/20\n",
      "2391/2392 [============================>.] - ETA: 0s - loss: 1.1312 - accuracy: 0.8828 - f1_score: 0.9547"
     ]
    },
    {
     "name": "stderr",
     "output_type": "stream",
     "text": [
      "c:\\Users\\yashr\\anaconda3\\envs\\tf\\lib\\site-packages\\keras\\engine\\training.py:2319: UserWarning: Metric F1Score implements a `reset_states()` method; rename it to `reset_state()` (without the final \"s\"). The name `reset_states()` has been deprecated to improve API consistency.\n",
      "  m.reset_state()\n"
     ]
    },
    {
     "name": "stdout",
     "output_type": "stream",
     "text": [
      "2392/2392 [==============================] - 301s 122ms/step - loss: 1.1312 - accuracy: 0.8828 - f1_score: 0.9547 - val_loss: 0.9740 - val_accuracy: 0.8963 - val_f1_score: 0.9616\n",
      "Epoch 2/20\n",
      "2392/2392 [==============================] - 330s 138ms/step - loss: 0.8578 - accuracy: 0.8977 - f1_score: 0.9575 - val_loss: 0.7628 - val_accuracy: 0.8976 - val_f1_score: 0.9594\n",
      "Epoch 3/20\n",
      "2392/2392 [==============================] - 314s 131ms/step - loss: 0.6724 - accuracy: 0.8961 - f1_score: 0.9692 - val_loss: 0.5794 - val_accuracy: 0.8994 - val_f1_score: 0.9824\n",
      "Epoch 4/20\n",
      "2392/2392 [==============================] - 312s 130ms/step - loss: 0.5197 - accuracy: 0.8944 - f1_score: 0.9836 - val_loss: 0.4525 - val_accuracy: 0.8936 - val_f1_score: 0.9862\n",
      "Epoch 5/20\n",
      "2392/2392 [==============================] - 312s 131ms/step - loss: 0.4089 - accuracy: 0.9529 - f1_score: 0.9868 - val_loss: 0.3687 - val_accuracy: 0.9576 - val_f1_score: 0.9864\n",
      "Epoch 6/20\n",
      "2392/2392 [==============================] - 331s 138ms/step - loss: 0.3253 - accuracy: 0.9622 - f1_score: 0.9880 - val_loss: 0.2912 - val_accuracy: 0.9631 - val_f1_score: 0.9886\n",
      "Epoch 7/20\n",
      "2392/2392 [==============================] - 342s 143ms/step - loss: 0.2543 - accuracy: 0.9685 - f1_score: 0.9904 - val_loss: 0.2559 - val_accuracy: 0.9563 - val_f1_score: 0.9872\n",
      "Epoch 8/20\n",
      "2392/2392 [==============================] - 334s 140ms/step - loss: 0.2016 - accuracy: 0.9735 - f1_score: 0.9920 - val_loss: 0.2089 - val_accuracy: 0.9610 - val_f1_score: 0.9869\n",
      "Epoch 9/20\n",
      "2392/2392 [==============================] - 309s 129ms/step - loss: 0.1596 - accuracy: 0.9783 - f1_score: 0.9937 - val_loss: 0.1775 - val_accuracy: 0.9651 - val_f1_score: 0.9891\n",
      "Epoch 10/20\n",
      "2392/2392 [==============================] - 350s 146ms/step - loss: 0.1286 - accuracy: 0.9818 - f1_score: 0.9947 - val_loss: 0.1463 - val_accuracy: 0.9715 - val_f1_score: 0.9922\n",
      "Epoch 11/20\n",
      "2392/2392 [==============================] - 341s 142ms/step - loss: 0.1082 - accuracy: 0.9832 - f1_score: 0.9953 - val_loss: 0.1372 - val_accuracy: 0.9702 - val_f1_score: 0.9907\n",
      "Epoch 12/20\n",
      "2392/2392 [==============================] - 329s 138ms/step - loss: 0.0897 - accuracy: 0.9860 - f1_score: 0.9960 - val_loss: 0.1307 - val_accuracy: 0.9697 - val_f1_score: 0.9903\n",
      "Epoch 13/20\n",
      "2392/2392 [==============================] - 334s 140ms/step - loss: 0.0775 - accuracy: 0.9873 - f1_score: 0.9964 - val_loss: 0.1244 - val_accuracy: 0.9699 - val_f1_score: 0.9913\n",
      "Epoch 14/20\n",
      "2392/2392 [==============================] - 469s 196ms/step - loss: 0.0666 - accuracy: 0.9890 - f1_score: 0.9968 - val_loss: 0.1235 - val_accuracy: 0.9705 - val_f1_score: 0.9904\n",
      "Epoch 15/20\n",
      "2392/2392 [==============================] - 314s 131ms/step - loss: 0.0584 - accuracy: 0.9903 - f1_score: 0.9972 - val_loss: 0.1290 - val_accuracy: 0.9695 - val_f1_score: 0.9907\n",
      "Epoch 16/20\n",
      "2392/2392 [==============================] - 335s 140ms/step - loss: 0.0536 - accuracy: 0.9906 - f1_score: 0.9973 - val_loss: 0.1188 - val_accuracy: 0.9726 - val_f1_score: 0.9918\n",
      "Epoch 17/20\n",
      "2392/2392 [==============================] - 316s 132ms/step - loss: 0.0501 - accuracy: 0.9911 - f1_score: 0.9975 - val_loss: 0.1114 - val_accuracy: 0.9728 - val_f1_score: 0.9921\n",
      "Epoch 18/20\n",
      "2392/2392 [==============================] - 316s 132ms/step - loss: 0.0446 - accuracy: 0.9922 - f1_score: 0.9977 - val_loss: 0.1218 - val_accuracy: 0.9713 - val_f1_score: 0.9912\n",
      "Epoch 19/20\n",
      "2392/2392 [==============================] - 352s 147ms/step - loss: 0.0411 - accuracy: 0.9926 - f1_score: 0.9978 - val_loss: 0.1088 - val_accuracy: 0.9726 - val_f1_score: 0.9912\n",
      "Epoch 20/20\n",
      "2392/2392 [==============================] - 315s 131ms/step - loss: 0.0387 - accuracy: 0.9930 - f1_score: 0.9980 - val_loss: 0.1244 - val_accuracy: 0.9687 - val_f1_score: 0.9897\n"
     ]
    }
   ],
   "source": [
    "training_history=model.fit(x=train_data,validation_data=valid_data,epochs=20,verbose=1)"
   ]
  },
  {
   "cell_type": "code",
   "execution_count": 18,
   "id": "b8022cbd",
   "metadata": {},
   "outputs": [],
   "source": [
    "model.save(\"./trained_retinal_model_v2.h5\")"
   ]
  },
  {
   "cell_type": "code",
   "execution_count": 19,
   "id": "286f9aca",
   "metadata": {},
   "outputs": [
    {
     "data": {
      "text/plain": [
       "{'loss': [1.1311975717544556,\n",
       "  0.8578396439552307,\n",
       "  0.672391414642334,\n",
       "  0.5196840763092041,\n",
       "  0.40891024470329285,\n",
       "  0.325285404920578,\n",
       "  0.2543480396270752,\n",
       "  0.20159165561199188,\n",
       "  0.15961873531341553,\n",
       "  0.12861959636211395,\n",
       "  0.10819680988788605,\n",
       "  0.08971944451332092,\n",
       "  0.07746531814336777,\n",
       "  0.06663305312395096,\n",
       "  0.058386046439409256,\n",
       "  0.05355527997016907,\n",
       "  0.05005393549799919,\n",
       "  0.044560857117176056,\n",
       "  0.04106131196022034,\n",
       "  0.03866562247276306],\n",
       " 'accuracy': [0.8827811479568481,\n",
       "  0.8976671099662781,\n",
       "  0.8961118459701538,\n",
       "  0.8944259285926819,\n",
       "  0.9528981447219849,\n",
       "  0.9621642827987671,\n",
       "  0.9685028791427612,\n",
       "  0.9735084772109985,\n",
       "  0.9782787561416626,\n",
       "  0.9817683100700378,\n",
       "  0.9832059144973755,\n",
       "  0.986015796661377,\n",
       "  0.9872835278511047,\n",
       "  0.9889956116676331,\n",
       "  0.990250289440155,\n",
       "  0.9906293153762817,\n",
       "  0.9910605549812317,\n",
       "  0.9922367930412292,\n",
       "  0.9926419854164124,\n",
       "  0.9930340647697449],\n",
       " 'f1_score': [0.9547204971313477,\n",
       "  0.9574623107910156,\n",
       "  0.9691580533981323,\n",
       "  0.9835798144340515,\n",
       "  0.9867705702781677,\n",
       "  0.9880021810531616,\n",
       "  0.990403950214386,\n",
       "  0.9919697046279907,\n",
       "  0.9936611652374268,\n",
       "  0.9947165250778198,\n",
       "  0.995303213596344,\n",
       "  0.9960392713546753,\n",
       "  0.9964056611061096,\n",
       "  0.9968318939208984,\n",
       "  0.9972229599952698,\n",
       "  0.9973486661911011,\n",
       "  0.9974809288978577,\n",
       "  0.9977132678031921,\n",
       "  0.9978256821632385,\n",
       "  0.9979969263076782],\n",
       " 'val_loss': [0.9740039706230164,\n",
       "  0.7628290057182312,\n",
       "  0.5793660283088684,\n",
       "  0.45249393582344055,\n",
       "  0.36867639422416687,\n",
       "  0.29121163487434387,\n",
       "  0.25586214661598206,\n",
       "  0.20893117785453796,\n",
       "  0.17751209437847137,\n",
       "  0.14634692668914795,\n",
       "  0.13720202445983887,\n",
       "  0.13074518740177155,\n",
       "  0.1244470477104187,\n",
       "  0.12352872639894485,\n",
       "  0.12900690734386444,\n",
       "  0.11881010234355927,\n",
       "  0.11140382289886475,\n",
       "  0.12175902724266052,\n",
       "  0.10882773250341415,\n",
       "  0.12442732602357864],\n",
       " 'val_accuracy': [0.8962535858154297,\n",
       "  0.8976259231567383,\n",
       "  0.899364173412323,\n",
       "  0.8935547471046448,\n",
       "  0.9576414823532104,\n",
       "  0.9630849361419678,\n",
       "  0.9562691450119019,\n",
       "  0.9610264897346497,\n",
       "  0.9650976657867432,\n",
       "  0.9715474843978882,\n",
       "  0.9702209234237671,\n",
       "  0.9696720242500305,\n",
       "  0.9699007272720337,\n",
       "  0.9705411195755005,\n",
       "  0.9695348143577576,\n",
       "  0.9725538492202759,\n",
       "  0.972782552242279,\n",
       "  0.971318781375885,\n",
       "  0.9725996255874634,\n",
       "  0.9687113761901855],\n",
       " 'val_f1_score': [0.9616431593894958,\n",
       "  0.9594425559043884,\n",
       "  0.9824360013008118,\n",
       "  0.986191987991333,\n",
       "  0.9863600134849548,\n",
       "  0.9886130690574646,\n",
       "  0.9871791005134583,\n",
       "  0.986940324306488,\n",
       "  0.9891232848167419,\n",
       "  0.9921520948410034,\n",
       "  0.9906816482543945,\n",
       "  0.9902830719947815,\n",
       "  0.9912575483322144,\n",
       "  0.9903609752655029,\n",
       "  0.9906982779502869,\n",
       "  0.9917667508125305,\n",
       "  0.9921156167984009,\n",
       "  0.9911544919013977,\n",
       "  0.9911660552024841,\n",
       "  0.9896718859672546]}"
      ]
     },
     "execution_count": 19,
     "metadata": {},
     "output_type": "execute_result"
    }
   ],
   "source": [
    "training_history.history"
   ]
  },
  {
   "cell_type": "code",
   "execution_count": 20,
   "id": "f02be361",
   "metadata": {},
   "outputs": [],
   "source": [
    "import pickle"
   ]
  },
  {
   "cell_type": "code",
   "execution_count": 21,
   "id": "5625328f",
   "metadata": {},
   "outputs": [],
   "source": [
    "with open(\"training_history_v2.pkl\",\"wb\") as f:\n",
    "    pickle.dump(training_history.history,f)"
   ]
  },
  {
   "cell_type": "code",
   "execution_count": 22,
   "id": "38b7f9e5",
   "metadata": {},
   "outputs": [
    {
     "name": "stdout",
     "output_type": "stream",
     "text": [
      "{'loss': [1.1311975717544556, 0.8578396439552307, 0.672391414642334, 0.5196840763092041, 0.40891024470329285, 0.325285404920578, 0.2543480396270752, 0.20159165561199188, 0.15961873531341553, 0.12861959636211395, 0.10819680988788605, 0.08971944451332092, 0.07746531814336777, 0.06663305312395096, 0.058386046439409256, 0.05355527997016907, 0.05005393549799919, 0.044560857117176056, 0.04106131196022034, 0.03866562247276306], 'accuracy': [0.8827811479568481, 0.8976671099662781, 0.8961118459701538, 0.8944259285926819, 0.9528981447219849, 0.9621642827987671, 0.9685028791427612, 0.9735084772109985, 0.9782787561416626, 0.9817683100700378, 0.9832059144973755, 0.986015796661377, 0.9872835278511047, 0.9889956116676331, 0.990250289440155, 0.9906293153762817, 0.9910605549812317, 0.9922367930412292, 0.9926419854164124, 0.9930340647697449], 'f1_score': [0.9547204971313477, 0.9574623107910156, 0.9691580533981323, 0.9835798144340515, 0.9867705702781677, 0.9880021810531616, 0.990403950214386, 0.9919697046279907, 0.9936611652374268, 0.9947165250778198, 0.995303213596344, 0.9960392713546753, 0.9964056611061096, 0.9968318939208984, 0.9972229599952698, 0.9973486661911011, 0.9974809288978577, 0.9977132678031921, 0.9978256821632385, 0.9979969263076782], 'val_loss': [0.9740039706230164, 0.7628290057182312, 0.5793660283088684, 0.45249393582344055, 0.36867639422416687, 0.29121163487434387, 0.25586214661598206, 0.20893117785453796, 0.17751209437847137, 0.14634692668914795, 0.13720202445983887, 0.13074518740177155, 0.1244470477104187, 0.12352872639894485, 0.12900690734386444, 0.11881010234355927, 0.11140382289886475, 0.12175902724266052, 0.10882773250341415, 0.12442732602357864], 'val_accuracy': [0.8962535858154297, 0.8976259231567383, 0.899364173412323, 0.8935547471046448, 0.9576414823532104, 0.9630849361419678, 0.9562691450119019, 0.9610264897346497, 0.9650976657867432, 0.9715474843978882, 0.9702209234237671, 0.9696720242500305, 0.9699007272720337, 0.9705411195755005, 0.9695348143577576, 0.9725538492202759, 0.972782552242279, 0.971318781375885, 0.9725996255874634, 0.9687113761901855], 'val_f1_score': [0.9616431593894958, 0.9594425559043884, 0.9824360013008118, 0.986191987991333, 0.9863600134849548, 0.9886130690574646, 0.9871791005134583, 0.986940324306488, 0.9891232848167419, 0.9921520948410034, 0.9906816482543945, 0.9902830719947815, 0.9912575483322144, 0.9903609752655029, 0.9906982779502869, 0.9917667508125305, 0.9921156167984009, 0.9911544919013977, 0.9911660552024841, 0.9896718859672546]}\n"
     ]
    }
   ],
   "source": [
    "with open(\"training_history_v2.pkl\",\"rb\") as f:\n",
    "    load_history=pickle.load(f)\n",
    "print(load_history)"
   ]
  },
  {
   "cell_type": "code",
   "execution_count": 24,
   "id": "ebd8be18",
   "metadata": {},
   "outputs": [
    {
     "data": {
      "image/png": "[encoded data removed]",
      "text/plain": [
       "<Figure size 640x480 with 1 Axes>"
      ]
     },
     "metadata": {},
     "output_type": "display_data"
    }
   ],
   "source": [
    "epochs = list(range(1, len(load_history['loss']) + 1))\n",
    "\n",
    "plt.plot(epochs, load_history['loss'], color='red', label=\"Training Loss\")\n",
    "plt.plot(epochs, load_history['val_loss'], color='blue', label=\"Validation Loss\")\n",
    "plt.xlabel(\"No. of epochs\")\n",
    "plt.ylabel(\"Loss\")\n",
    "plt.title(\"Visualization of Loss Result\")\n",
    "plt.legend()\n",
    "plt.show()\n"
   ]
  },
  {
   "cell_type": "code",
   "execution_count": 26,
   "id": "c607f5d3",
   "metadata": {},
   "outputs": [
    {
     "data": {
      "image/png": "[encoded data removed]",
      "text/plain": [
       "<Figure size 640x480 with 1 Axes>"
      ]
     },
     "metadata": {},
     "output_type": "display_data"
    }
   ],
   "source": [
    "epochs=[i for i in range(1,21)]\n",
    "plt.plot(epochs,load_history['loss'],color='red',label=\"Training Loss\")\n",
    "plt.plot(epochs,load_history['val_loss'],color='blue',label=\"Validation Loss\")\n",
    "plt.xlabel(\"No. of epochs\")\n",
    "plt.ylabel(\"Loss\")\n",
    "plt.title(\"Visualization of Loss Result\")\n",
    "plt.legend()\n",
    "plt.show()"
   ]
  },
  {
   "cell_type": "code",
   "execution_count": 28,
   "id": "61f219aa",
   "metadata": {},
   "outputs": [],
   "source": [
    "from tensorflow.keras import backend as K\n",
    "# Define the F1Score metric function (if you haven't defined it yet)\n",
    "def f1_score(y_true, y_pred):\n",
    "    # Calculate precision and recall\n",
    "    precision = tf.keras.metrics.Precision()(y_true, y_pred)\n",
    "    recall = tf.keras.metrics.Recall()(y_true, y_pred)\n",
    "    \n",
    "    # Return the harmonic mean of precision and recall (F1 Score)\n",
    "    return 2 * ((precision * recall) / (precision + recall + K.epsilon()))"
   ]
  },
  {
   "cell_type": "code",
   "execution_count": 31,
   "id": "e86cac5e",
   "metadata": {},
   "outputs": [],
   "source": [
    "model = tf.keras.models.load_model(\"trained_retinal_model_v2.h5\", \n",
    "                   custom_objects={\"F1Score\": lambda name=\"f1_score\", **kwargs: F1Score(name=name, **kwargs)})"
   ]
  },
  {
   "cell_type": "code",
   "execution_count": 37,
   "id": "c44af034",
   "metadata": {},
   "outputs": [],
   "source": [
    "# model=tf.keras.models.load_model(\"trained_retinal_model_v2.h5\")"
   ]
  },
  {
   "cell_type": "code",
   "execution_count": 32,
   "id": "95cc793d",
   "metadata": {},
   "outputs": [
    {
     "name": "stdout",
     "output_type": "stream",
     "text": [
      "Model: \"sequential\"\n",
      "_________________________________________________________________\n",
      " Layer (type)                Output Shape              Param #   \n",
      "=================================================================\n",
      " MobilenetV3large (Functiona  (None, 1000)             5507432   \n",
      " l)                                                              \n",
      "                                                                 \n",
      " dense (Dense)               (None, 4)                 4004      \n",
      "                                                                 \n",
      "=================================================================\n",
      "Total params: 5,511,436\n",
      "Trainable params: 5,487,036\n",
      "Non-trainable params: 24,400\n",
      "_________________________________________________________________\n"
     ]
    }
   ],
   "source": [
    "model.summary()"
   ]
  },
  {
   "cell_type": "code",
   "execution_count": 33,
   "id": "0fcd92d3",
   "metadata": {},
   "outputs": [
    {
     "name": "stdout",
     "output_type": "stream",
     "text": [
      "Found 10933 files belonging to 4 classes.\n"
     ]
    }
   ],
   "source": [
    "test_data=image_dataset_from_directory(\n",
    "    r\"..\\data\\retina\\test\",\n",
    "    labels=\"inferred\",\n",
    "    label_mode=\"categorical\",\n",
    "    class_names=None,\n",
    "    color_mode=\"rgb\",\n",
    "    batch_size=32,\n",
    "    image_size=(224, 224),\n",
    "    shuffle=False,\n",
    "    seed=None,\n",
    "    validation_split=None,\n",
    "    subset=None,\n",
    "    interpolation=\"bilinear\",\n",
    "    follow_links=False,\n",
    "    crop_to_aspect_ratio=False,\n",
    ")"
   ]
  },
  {
   "cell_type": "code",
   "execution_count": 36,
   "id": "bd4e332b",
   "metadata": {},
   "outputs": [],
   "source": [
    "# test_loss,test_acc=model.evaluate(test_data)"
   ]
  },
  {
   "cell_type": "code",
   "execution_count": 35,
   "id": "4bead36d",
   "metadata": {},
   "outputs": [
    {
     "name": "stdout",
     "output_type": "stream",
     "text": [
      "342/342 [==============================] - 11s 32ms/step - loss: 0.1327 - accuracy: 0.9682 - f1_score: 0.9896\n"
     ]
    }
   ],
   "source": [
    "test_loss, test_acc, f1_score = model.evaluate(test_data)\n"
   ]
  },
  {
   "cell_type": "code",
   "execution_count": 40,
   "id": "4de8ed9a",
   "metadata": {},
   "outputs": [
    {
     "data": {
      "text/plain": [
       "<tf.Tensor: shape=(10933, 4), dtype=float32, numpy=\n",
       "array([[1., 0., 0., 0.],\n",
       "       [1., 0., 0., 0.],\n",
       "       [1., 0., 0., 0.],\n",
       "       ...,\n",
       "       [0., 0., 0., 1.],\n",
       "       [0., 0., 0., 1.],\n",
       "       [0., 0., 0., 1.]], dtype=float32)>"
      ]
     },
     "execution_count": 40,
     "metadata": {},
     "output_type": "execute_result"
    }
   ],
   "source": [
    "true_categories=tf.concat([y for x,y in test_data],axis=0)\n",
    "true_categories"
   ]
  },
  {
   "cell_type": "code",
   "execution_count": 41,
   "id": "baf2c17b",
   "metadata": {},
   "outputs": [
    {
     "data": {
      "text/plain": [
       "<tf.Tensor: shape=(10933,), dtype=int64, numpy=array([0, 0, 0, ..., 3, 3, 3], dtype=int64)>"
      ]
     },
     "execution_count": 41,
     "metadata": {},
     "output_type": "execute_result"
    }
   ],
   "source": [
    "y_true=tf.argmax(true_categories,axis=1)\n",
    "y_true"
   ]
  },
  {
   "cell_type": "code",
   "execution_count": 42,
   "id": "cec702c8",
   "metadata": {},
   "outputs": [
    {
     "name": "stdout",
     "output_type": "stream",
     "text": [
      "342/342 [==============================] - 11s 30ms/step\n"
     ]
    },
    {
     "data": {
      "text/plain": [
       "array([[0.9915895 , 0.00236201, 0.00416564, 0.00188291],\n",
       "       [0.9915895 , 0.00236201, 0.00416564, 0.00188291],\n",
       "       [0.9915895 , 0.00236201, 0.00416564, 0.00188291],\n",
       "       ...,\n",
       "       [0.00107945, 0.00178532, 0.00313082, 0.9940044 ],\n",
       "       [0.00108306, 0.00179025, 0.00314055, 0.9939861 ],\n",
       "       [0.00107943, 0.00178534, 0.00313023, 0.994005  ]], dtype=float32)"
      ]
     },
     "execution_count": 42,
     "metadata": {},
     "output_type": "execute_result"
    }
   ],
   "source": [
    "predicted_categories=model.predict(test_data)\n",
    "predicted_categories"
   ]
  },
  {
   "cell_type": "code",
   "execution_count": 43,
   "id": "7bceb627",
   "metadata": {},
   "outputs": [
    {
     "name": "stdout",
     "output_type": "stream",
     "text": [
      "342/342 [==============================] - 10s 30ms/step\n"
     ]
    }
   ],
   "source": [
    "# Predict using the trained model\n",
    "predicted_categories = model.predict(test_data)\n",
    "\n",
    "# Now, you can apply tf.argmax to get the predicted class labels\n",
    "y_pred = tf.argmax(predicted_categories, axis=1)\n"
   ]
  },
  {
   "cell_type": "code",
   "execution_count": null,
   "id": "a2bcf361",
   "metadata": {},
   "outputs": [],
   "source": []
  },
  {
   "cell_type": "code",
   "execution_count": 44,
   "id": "dea34d43",
   "metadata": {},
   "outputs": [],
   "source": [
    "from sklearn.metrics import classification_report"
   ]
  },
  {
   "cell_type": "code",
   "execution_count": 45,
   "id": "0a4b8e7b",
   "metadata": {},
   "outputs": [
    {
     "name": "stdout",
     "output_type": "stream",
     "text": [
      "              precision    recall  f1-score   support\n",
      "\n",
      "           0       0.98      0.96      0.97      3746\n",
      "           1       0.91      0.97      0.94      1161\n",
      "           2       0.89      0.89      0.89       887\n",
      "           3       0.99      0.99      0.99      5139\n",
      "\n",
      "    accuracy                           0.97     10933\n",
      "   macro avg       0.94      0.95      0.95     10933\n",
      "weighted avg       0.97      0.97      0.97     10933\n",
      "\n"
     ]
    }
   ],
   "source": [
    "print(classification_report(y_true,y_pred))"
   ]
  },
  {
   "cell_type": "code",
   "execution_count": 46,
   "id": "44a9d362",
   "metadata": {},
   "outputs": [],
   "source": [
    "from sklearn.metrics import confusion_matrix"
   ]
  },
  {
   "cell_type": "code",
   "execution_count": 47,
   "id": "40db10d1",
   "metadata": {},
   "outputs": [
    {
     "name": "stdout",
     "output_type": "stream",
     "text": [
      "[[3609   62   68    7]\n",
      " [  17 1125    3   16]\n",
      " [  63    4  787   33]\n",
      " [   6   41   28 5064]]\n"
     ]
    }
   ],
   "source": [
    "cm=confusion_matrix(y_true,y_pred)\n",
    "print(cm)"
   ]
  },
  {
   "cell_type": "code",
   "execution_count": 63,
   "id": "7e6072c3",
   "metadata": {},
   "outputs": [
    {
     "data": {
      "image/png": "[encoded data removed]",
      "text/plain": [
       "<Figure size 800x600 with 2 Axes>"
      ]
     },
     "metadata": {},
     "output_type": "display_data"
    }
   ],
   "source": [
    "import matplotlib.pyplot as plt\n",
    "import seaborn as sns\n",
    "import numpy as np\n",
    "\n",
    "# Disease class names corresponding to the numeric labels\n",
    "class_names = ['CNV', 'DME', 'Drussen', 'Normal']\n",
    "\n",
    "# Assuming 'cm' is your confusion matrix\n",
    "plt.figure(figsize=(8, 6))\n",
    "\n",
    "# Define a color palette and add a color bar\n",
    "sns.heatmap(cm, annot=True, fmt=\"d\", cmap=\"magma\", annot_kws={\"size\": 12}, \n",
    "            cbar=True, linewidths=0.5, linecolor=\"gray\", \n",
    "            xticklabels=class_names, yticklabels=class_names)\n",
    "\n",
    "# Customize axis labels and title\n",
    "plt.xlabel(\"Predicted Class\", fontsize=14)\n",
    "plt.ylabel(\"Actual Class\", fontsize=14)\n",
    "plt.title(\"OCTVision Confusion Matrix\", fontsize=20)\n",
    "\n",
    "# # Adjust tick labels for better readability\n",
    "# plt.xticks(rotation=45, fontsize=12)\n",
    "# plt.yticks(rotation=45, fontsize=12)\n",
    "\n",
    "# Set a grid for better cell division\n",
    "plt.grid(False)\n",
    "\n",
    "# Show plot\n",
    "plt.show()\n"
   ]
  },
  {
   "cell_type": "code",
   "execution_count": 64,
   "id": "ccff8ce2",
   "metadata": {},
   "outputs": [],
   "source": [
    "# plt.figure(figsize=(8,6))\n",
    "# sns.heatmap(cm,annot=True,annot_kws={\"size\":8})\n",
    "# plt.xlabel(\"Predicted Class\",fontsize=10)\n",
    "# plt.ylabel(\"Actual Class\",fontsize=10)\n",
    "# plt.title(\"OCTVision Confusion Matrix\",fontsize=20)\n",
    "# plt.show()"
   ]
  },
  {
   "cell_type": "code",
   "execution_count": null,
   "id": "b531c61b",
   "metadata": {},
   "outputs": [],
   "source": []
  }
 ],
 "metadata": {
  "kernelspec": {
   "display_name": "tf",
   "language": "python",
   "name": "python3"
  },
  "language_info": {
   "codemirror_mode": {
    "name": "ipython",
    "version": 3
   },
   "file_extension": ".py",
   "mimetype": "text/x-python",
   "name": "python",
   "nbconvert_exporter": "python",
   "pygments_lexer": "ipython3",
   "version": "3.9.23"
  }
 },
 "nbformat": 4,
 "nbformat_minor": 5
}
